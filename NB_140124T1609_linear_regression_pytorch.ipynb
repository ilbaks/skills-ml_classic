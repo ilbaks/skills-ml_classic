{
 "cells": [
  {
   "cell_type": "markdown",
   "metadata": {},
   "source": [
    "# NB_140124T1609_linear_regression_pytorch"
   ]
  },
  {
   "cell_type": "markdown",
   "metadata": {},
   "source": [
    "# 0.Goals\n"
   ]
  },
  {
   "cell_type": "markdown",
   "metadata": {},
   "source": [
    "- implementation linear regression with pytorch\n",
    "\n",
    "[link to torch tutorial](https://github.com/ilbaks/LLM_start/blob/main/02_Pytorch_Basics/02_pytorch_basics_regression.ipynb)"
   ]
  },
  {
   "cell_type": "markdown",
   "metadata": {},
   "source": [
    "# 1.Imports"
   ]
  },
  {
   "cell_type": "code",
   "execution_count": 14,
   "metadata": {},
   "outputs": [],
   "source": [
    "from sklearn import datasets\n",
    "from sklearn.model_selection import train_test_split\n",
    "import numpy as np\n",
    "import torch\n",
    "import torch.nn as nn\n",
    "from typing import Union\n",
    "import matplotlib.pyplot as plt"
   ]
  },
  {
   "cell_type": "markdown",
   "metadata": {},
   "source": [
    "# 2. Implementation of the class LinearRegression"
   ]
  },
  {
   "cell_type": "code",
   "execution_count": 38,
   "metadata": {},
   "outputs": [],
   "source": [
    "class LinearRegression(object):\n",
    "    def __init__(self, learning_rate: float = 0.01, num_iter: int = 200):\n",
    "        self.lr = learning_rate\n",
    "        self.n_iter = num_iter\n",
    "        self.model = None\n",
    "        self.optimizer = None\n",
    "\n",
    "    def initialize_model(self, input_size, output_size: int = 1):\n",
    "        self.model = nn.Linear(\n",
    "            in_features=input_size, out_features=output_size\n",
    "        )\n",
    "\n",
    "    def initialize_optim(self):\n",
    "        self.loss_function = nn.MSELoss()\n",
    "        self.optimizer = torch.optim.SGD(self.model.parameters(), lr=self.lr)\n",
    "\n",
    "    def fit(\n",
    "        self,\n",
    "        X: Union[np.ndarray, torch.Tensor],\n",
    "        Y: Union[np.ndarray, torch.Tensor],\n",
    "    ):\n",
    "        if isinstance(X, np.ndarray):\n",
    "            X = torch.from_numpy(X.astype(np.float32))\n",
    "\n",
    "        if isinstance(Y, np.ndarray):\n",
    "            Y = torch.from_numpy(Y.astype(np.float32))\n",
    "\n",
    "        Y = Y.view(Y.shape[0], 1)\n",
    "\n",
    "        n_samples, n_features = X.size()\n",
    "\n",
    "        self.initialize_model(input_size=n_features)\n",
    "        self.initialize_optim()\n",
    "\n",
    "        for _ in range(self.n_iter):\n",
    "            # forward pass\n",
    "            Y_hat = self.model(X)\n",
    "\n",
    "            # compute loss\n",
    "            loss = self.loss_function(Y_hat, Y)\n",
    "\n",
    "            # backward pass\n",
    "            loss.backward()\n",
    "\n",
    "            # update the model parameters\n",
    "            self.optimizer.step()\n",
    "\n",
    "            # zero gradients\n",
    "            self.optimizer.zero_grad()\n",
    "\n",
    "            # print loss every 10 iters\n",
    "            if _ % 10 == 0:\n",
    "                print(f\"epoch: {_ + 1}, {loss.item()=:.4f}\")\n",
    "\n",
    "    def predict(self, X: np.ndarray) -> np.ndarray:\n",
    "        X_torch = torch.Tensor(X.astype(np.float32))\n",
    "\n",
    "        Y_hat_torch = self.model(X_torch)\n",
    "\n",
    "        Y_hat = Y_hat_torch.detach().numpy()\n",
    "\n",
    "        return Y_hat"
   ]
  },
  {
   "cell_type": "markdown",
   "metadata": {},
   "source": [
    "# 3.Load data"
   ]
  },
  {
   "cell_type": "code",
   "execution_count": 39,
   "metadata": {},
   "outputs": [
    {
     "name": "stdout",
     "output_type": "stream",
     "text": [
      "type(X_test)=<class 'numpy.ndarray'>, \n",
      " type(Y_test)=<class 'numpy.ndarray'>, \n",
      " X_test.shape=(20, 1), \n",
      " Y_test.shape=(20,)\n"
     ]
    },
    {
     "data": {
      "image/png": "[encoded data removed]",
      "text/plain": [
       "<Figure size 640x480 with 1 Axes>"
      ]
     },
     "metadata": {},
     "output_type": "display_data"
    }
   ],
   "source": [
    "X, y = datasets.make_regression(\n",
    "    n_samples=100, n_features=1, noise=20, random_state=123\n",
    ")\n",
    "\n",
    "\n",
    "X_train, X_test, Y_train, Y_test = train_test_split(\n",
    "    X, y, test_size=0.2, random_state=123\n",
    ")\n",
    "\n",
    "print(\n",
    "    f\"{type(X_test)=}, \\n {type(Y_test)=}, \\n {X_test.shape=}, \\n {Y_test.shape=}\"\n",
    ")\n",
    "\n",
    "plt.plot(X_test, Y_test, \"o\", color=\"blue\")\n",
    "plt.show()"
   ]
  },
  {
   "cell_type": "markdown",
   "metadata": {},
   "source": [
    "# 4.Use the model"
   ]
  },
  {
   "cell_type": "markdown",
   "metadata": {},
   "source": [
    "- fit the model"
   ]
  },
  {
   "cell_type": "code",
   "execution_count": 40,
   "metadata": {},
   "outputs": [
    {
     "name": "stdout",
     "output_type": "stream",
     "text": [
      "epoch: 1, loss.item()=1294.1327\n",
      "epoch: 11, loss.item()=959.9120\n",
      "epoch: 21, loss.item()=730.0139\n",
      "epoch: 31, loss.item()=571.7510\n",
      "epoch: 41, loss.item()=462.7185\n",
      "epoch: 51, loss.item()=387.5468\n",
      "epoch: 61, loss.item()=335.6825\n",
      "epoch: 71, loss.item()=299.8742\n",
      "epoch: 81, loss.item()=275.1346\n",
      "epoch: 91, loss.item()=258.0313\n",
      "epoch: 101, loss.item()=246.1997\n",
      "epoch: 111, loss.item()=238.0099\n",
      "epoch: 121, loss.item()=232.3377\n",
      "epoch: 131, loss.item()=228.4071\n",
      "epoch: 141, loss.item()=225.6817\n",
      "epoch: 151, loss.item()=223.7911\n",
      "epoch: 161, loss.item()=222.4790\n",
      "epoch: 171, loss.item()=221.5678\n",
      "epoch: 181, loss.item()=220.9349\n",
      "epoch: 191, loss.item()=220.4950\n"
     ]
    }
   ],
   "source": [
    "linear_regeressor = LinearRegression()\n",
    "\n",
    "linear_regeressor.fit(X_test, Y_test)"
   ]
  },
  {
   "cell_type": "markdown",
   "metadata": {},
   "source": [
    "- predict with the model"
   ]
  },
  {
   "cell_type": "code",
   "execution_count": 42,
   "metadata": {},
   "outputs": [
    {
     "data": {
      "image/png": "[encoded data removed]",
      "text/plain": [
       "<Figure size 640x480 with 1 Axes>"
      ]
     },
     "metadata": {},
     "output_type": "display_data"
    }
   ],
   "source": [
    "Y_hat = linear_regeressor.predict(X_test)\n",
    "\n",
    "plt.plot(X_test, Y_test, \"o\", color=\"green\")\n",
    "plt.plot(X_test, Y_hat, color=\"white\")\n",
    "plt.show()"
   ]
  },
  {
   "cell_type": "code",
   "execution_count": null,
   "metadata": {},
   "outputs": [],
   "source": []
  }
 ],
 "metadata": {
  "kernelspec": {
   "display_name": "Python 3",
   "language": "python",
   "name": "python3"
  },
  "language_info": {
   "codemirror_mode": {
    "name": "ipython",
    "version": 3
   },
   "file_extension": ".py",
   "mimetype": "text/x-python",
   "name": "python",
   "nbconvert_exporter": "python",
   "pygments_lexer": "ipython3",
   "version": "3.11.5"
  }
 },
 "nbformat": 4,
 "nbformat_minor": 2
}
